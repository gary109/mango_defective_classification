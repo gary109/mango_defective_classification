{
 "cells": [
  {
   "cell_type": "code",
   "execution_count": 1,
   "metadata": {},
   "outputs": [],
   "source": [
    "from utils import Utils\n",
    "import warnings\n",
    "def ignore_warn(*args, **kwargs):\n",
    "    pass\n",
    "warnings.warn = ignore_warn\n",
    "%matplotlib inline"
   ]
  },
  {
   "cell_type": "code",
   "execution_count": 2,
   "metadata": {},
   "outputs": [
    {
     "name": "stdout",
     "output_type": "stream",
     "text": [
      "The /workspace/AIcup/mango_defective_classification/.ipynb_checkpoints is deleted successfully\n"
     ]
    }
   ],
   "source": [
    "utils = Utils()\n",
    "utils.init_datasets(output_root = './datasets/outputs')"
   ]
  },
  {
   "cell_type": "markdown",
   "metadata": {},
   "source": [
    "# Parser Original Train/Test datasets to CSV train.csv test.csv"
   ]
  },
  {
   "cell_type": "code",
   "execution_count": 4,
   "metadata": {},
   "outputs": [
    {
     "name": "stdout",
     "output_type": "stream",
     "text": [
      "isTrain=1\n",
      "[0] A:./datasets/original/C2_TrainDev/trainA/38414.png B:./datasets/original/C2_TrainDev/trainB/38414.png ... Done \n",
      "[1] A:./datasets/original/C2_TrainDev/trainA/03182.png B:./datasets/original/C2_TrainDev/trainB/03182.png ... Done \n",
      "[2] A:./datasets/original/C2_TrainDev/trainA/29863.png B:./datasets/original/C2_TrainDev/trainB/29863.png ... Done \n",
      "[3] A:./datasets/original/C2_TrainDev/trainA/17937.png B:./datasets/original/C2_TrainDev/trainB/17937.png ... Done \n",
      "[4] A:./datasets/original/C2_TrainDev/trainA/40878.png B:./datasets/original/C2_TrainDev/trainB/40878.png ... Done \n",
      "[5] A:./datasets/original/C2_TrainDev/trainA/29064.png B:./datasets/original/C2_TrainDev/trainB/29064.png ... Done \n",
      "[6] A:./datasets/original/C2_TrainDev/trainA/33963.png B:./datasets/original/C2_TrainDev/trainB/33963.png ... Done \n",
      "[7] A:./datasets/original/C2_TrainDev/trainA/44680.png B:./datasets/original/C2_TrainDev/trainB/44680.png ... Done \n",
      "[8] A:./datasets/original/C2_TrainDev/trainA/35482.png B:./datasets/original/C2_TrainDev/trainB/35482.png ... Done \n",
      "[9] A:./datasets/original/C2_TrainDev/trainA/04406.png B:./datasets/original/C2_TrainDev/trainB/04406.png ... Done \n",
      "[10] A:./datasets/original/C2_TrainDev/trainA/49127.png B:./datasets/original/C2_TrainDev/trainB/49127.png ... Done \n",
      "[11] A:./datasets/original/C2_TrainDev/trainA/20437.png B:./datasets/original/C2_TrainDev/trainB/20437.png ... Done \n",
      "[12] A:./datasets/original/C2_TrainDev/trainA/20160.png B:./datasets/original/C2_TrainDev/trainB/20160.png ... Done \n",
      "[13] A:./datasets/original/C2_TrainDev/trainA/01149.png B:./datasets/original/C2_TrainDev/trainB/01149.png ... Done \n",
      "[14] A:./datasets/original/C2_TrainDev/trainA/17256.png B:./datasets/original/C2_TrainDev/trainB/17256.png ... Done \n",
      "[15] A:./datasets/original/C2_TrainDev/trainA/45792.png B:./datasets/original/C2_TrainDev/trainB/45792.png ... Done \n",
      "[16] A:./datasets/original/C2_TrainDev/trainA/23349.png B:./datasets/original/C2_TrainDev/trainB/23349.png ... Done \n",
      "[17] A:./datasets/original/C2_TrainDev/trainA/35078.png B:./datasets/original/C2_TrainDev/trainB/35078.png ... Done \n",
      "[18] A:./datasets/original/C2_TrainDev/trainA/14616.png B:./datasets/original/C2_TrainDev/trainB/14616.png ... Done \n",
      "[19] A:./datasets/original/C2_TrainDev/trainA/02667.png B:./datasets/original/C2_TrainDev/trainB/02667.png ... Done \n",
      "[20] A:./datasets/original/C2_TrainDev/trainA/19911.png B:./datasets/original/C2_TrainDev/trainB/19911.png ... Done \n",
      "[21] A:./datasets/original/C2_TrainDev/trainA/27594.png B:./datasets/original/C2_TrainDev/trainB/27594.png ... Done \n",
      "[22] A:./datasets/original/C2_TrainDev/trainA/31915.png B:./datasets/original/C2_TrainDev/trainB/31915.png ... Done \n",
      "[23] A:./datasets/original/C2_TrainDev/trainA/12237.png B:./datasets/original/C2_TrainDev/trainB/12237.png ... Done \n",
      "[24] A:./datasets/original/C2_TrainDev/trainA/32345.png B:./datasets/original/C2_TrainDev/trainB/32345.png ... Done \n",
      "[25] A:./datasets/original/C2_TrainDev/trainA/05419.png B:./datasets/original/C2_TrainDev/trainB/05419.png ... Done \n",
      "[26] A:./datasets/original/C2_TrainDev/trainA/45771.png B:./datasets/original/C2_TrainDev/trainB/45771.png ... Done \n",
      "[27] A:./datasets/original/C2_TrainDev/trainA/35203.png B:./datasets/original/C2_TrainDev/trainB/35203.png ... Done \n",
      "[28] A:./datasets/original/C2_TrainDev/trainA/23029.png B:./datasets/original/C2_TrainDev/trainB/23029.png ... Done \n",
      "[29] A:./datasets/original/C2_TrainDev/trainA/48388.png B:./datasets/original/C2_TrainDev/trainB/48388.png ... Done \n",
      "[30] A:./datasets/original/C2_TrainDev/trainA/22551.png B:./datasets/original/C2_TrainDev/trainB/22551.png ... Done \n",
      "[31] A:./datasets/original/C2_TrainDev/trainA/39804.png B:./datasets/original/C2_TrainDev/trainB/39804.png ... Done \n",
      "[32] A:./datasets/original/C2_TrainDev/trainA/05828.png B:./datasets/original/C2_TrainDev/trainB/05828.png ... Done \n",
      "[33] A:./datasets/original/C2_TrainDev/trainA/01876.png B:./datasets/original/C2_TrainDev/trainB/01876.png ... Done \n",
      "[34] A:./datasets/original/C2_TrainDev/trainA/11257.png B:./datasets/original/C2_TrainDev/trainB/11257.png ... Done \n",
      "[35] A:./datasets/original/C2_TrainDev/trainA/19992.png B:./datasets/original/C2_TrainDev/trainB/19992.png ... Done \n",
      "[36] A:./datasets/original/C2_TrainDev/trainA/33553.png B:./datasets/original/C2_TrainDev/trainB/33553.png ... Done \n",
      "[37] A:./datasets/original/C2_TrainDev/trainA/45136.png B:./datasets/original/C2_TrainDev/trainB/45136.png ... Done \n",
      "[38] A:./datasets/original/C2_TrainDev/trainA/26192.png B:./datasets/original/C2_TrainDev/trainB/26192.png ... Done \n",
      "[39] A:./datasets/original/C2_TrainDev/trainA/22272.png B:./datasets/original/C2_TrainDev/trainB/22272.png ... Done \n",
      "[40] A:./datasets/original/C2_TrainDev/trainA/42079.png B:./datasets/original/C2_TrainDev/trainB/42079.png ... Done \n",
      "[41] A:./datasets/original/C2_TrainDev/trainA/22352.png B:./datasets/original/C2_TrainDev/trainB/22352.png ... Done \n",
      "[42] A:./datasets/original/C2_TrainDev/trainA/25099.png B:./datasets/original/C2_TrainDev/trainB/25099.png ... Done \n",
      "[43] A:./datasets/original/C2_TrainDev/trainA/06994.png B:./datasets/original/C2_TrainDev/trainB/06994.png ... Done \n",
      "[44] A:./datasets/original/C2_TrainDev/trainA/46759.png B:./datasets/original/C2_TrainDev/trainB/46759.png ... Done \n",
      "[45] A:./datasets/original/C2_TrainDev/trainA/23050.png B:./datasets/original/C2_TrainDev/trainB/23050.png ... Done \n",
      "[46] A:./datasets/original/C2_TrainDev/trainA/45378.png B:./datasets/original/C2_TrainDev/trainB/45378.png ... Done \n"
     ]
    },
    {
     "ename": "KeyboardInterrupt",
     "evalue": "",
     "output_type": "error",
     "traceback": [
      "\u001b[0;31m\u001b[0m",
      "\u001b[0;31mKeyboardInterrupt\u001b[0mTraceback (most recent call last)",
      "\u001b[0;32m<ipython-input-4-ab38a55e2926>\u001b[0m in \u001b[0;36m<module>\u001b[0;34m\u001b[0m\n\u001b[1;32m      1\u001b[0m \u001b[0mutils\u001b[0m\u001b[0;34m.\u001b[0m\u001b[0minit_vars\u001b[0m\u001b[0;34m(\u001b[0m\u001b[0misTrain\u001b[0m\u001b[0;34m=\u001b[0m\u001b[0;32mTrue\u001b[0m\u001b[0;34m)\u001b[0m\u001b[0;34m\u001b[0m\u001b[0;34m\u001b[0m\u001b[0m\n\u001b[0;32m----> 2\u001b[0;31m \u001b[0mutils\u001b[0m\u001b[0;34m.\u001b[0m\u001b[0mdefective2img\u001b[0m\u001b[0;34m(\u001b[0m\u001b[0mtoCsvName\u001b[0m\u001b[0;34m=\u001b[0m\u001b[0;34m'train.csv'\u001b[0m\u001b[0;34m)\u001b[0m\u001b[0;34m\u001b[0m\u001b[0;34m\u001b[0m\u001b[0m\n\u001b[0m",
      "\u001b[0;32m/workspace/AIcup/mango_defective_classification/utils.py\u001b[0m in \u001b[0;36mdefective2img\u001b[0;34m(self, toCsvName)\u001b[0m\n\u001b[1;32m    309\u001b[0m                         \u001b[0mcv2\u001b[0m\u001b[0;34m.\u001b[0m\u001b[0mrectangle\u001b[0m\u001b[0;34m(\u001b[0m\u001b[0mimg_B2\u001b[0m\u001b[0;34m,\u001b[0m \u001b[0;34m(\u001b[0m\u001b[0mx\u001b[0m\u001b[0;34m,\u001b[0m \u001b[0my\u001b[0m\u001b[0;34m)\u001b[0m\u001b[0;34m,\u001b[0m \u001b[0;34m(\u001b[0m\u001b[0mx\u001b[0m\u001b[0;34m+\u001b[0m\u001b[0mw\u001b[0m\u001b[0;34m,\u001b[0m\u001b[0my\u001b[0m\u001b[0;34m+\u001b[0m\u001b[0mh\u001b[0m\u001b[0;34m)\u001b[0m\u001b[0;34m,\u001b[0m \u001b[0mself\u001b[0m\u001b[0;34m.\u001b[0m\u001b[0mdefectiveInfo\u001b[0m\u001b[0;34m[\u001b[0m\u001b[0mdefective_name\u001b[0m\u001b[0;34m]\u001b[0m\u001b[0;34m,\u001b[0m \u001b[0;34m-\u001b[0m\u001b[0;36m1\u001b[0m\u001b[0;34m)\u001b[0m\u001b[0;34m\u001b[0m\u001b[0;34m\u001b[0m\u001b[0m\n\u001b[1;32m    310\u001b[0m                         \u001b[0mimg_B\u001b[0m \u001b[0;34m=\u001b[0m \u001b[0minputs\u001b[0m \u001b[0;34m|\u001b[0m \u001b[0mimg_B2\u001b[0m\u001b[0;34m\u001b[0m\u001b[0;34m\u001b[0m\u001b[0m\n\u001b[0;32m--> 311\u001b[0;31m                         \u001b[0mcv2\u001b[0m\u001b[0;34m.\u001b[0m\u001b[0mimwrite\u001b[0m\u001b[0;34m(\u001b[0m\u001b[0mB_path\u001b[0m\u001b[0;34m,\u001b[0m \u001b[0mimg_B\u001b[0m\u001b[0;34m)\u001b[0m\u001b[0;34m\u001b[0m\u001b[0;34m\u001b[0m\u001b[0m\n\u001b[0m\u001b[1;32m    312\u001b[0m                 \u001b[0mA\u001b[0m\u001b[0;34m.\u001b[0m\u001b[0mappend\u001b[0m\u001b[0;34m(\u001b[0m\u001b[0mA_path\u001b[0m\u001b[0;34m)\u001b[0m\u001b[0;34m\u001b[0m\u001b[0;34m\u001b[0m\u001b[0m\n\u001b[1;32m    313\u001b[0m                 \u001b[0mB\u001b[0m\u001b[0;34m.\u001b[0m\u001b[0mappend\u001b[0m\u001b[0;34m(\u001b[0m\u001b[0mB_path\u001b[0m\u001b[0;34m)\u001b[0m\u001b[0;34m\u001b[0m\u001b[0;34m\u001b[0m\u001b[0m\n",
      "\u001b[0;31mKeyboardInterrupt\u001b[0m: "
     ]
    }
   ],
   "source": [
    "utils.init_vars(isTrain=True)\n",
    "utils.defective2img(toCsvName='train.csv')"
   ]
  },
  {
   "cell_type": "code",
   "execution_count": null,
   "metadata": {},
   "outputs": [],
   "source": [
    "# utils.init_vars(isTrain=False)\n",
    "# utils.defective2img(toCsvName='test.csv')"
   ]
  },
  {
   "cell_type": "code",
   "execution_count": null,
   "metadata": {},
   "outputs": [],
   "source": []
  },
  {
   "cell_type": "code",
   "execution_count": null,
   "metadata": {},
   "outputs": [],
   "source": []
  }
 ],
 "metadata": {
  "kernelspec": {
   "display_name": "Python 3",
   "language": "python",
   "name": "python3"
  },
  "language_info": {
   "codemirror_mode": {
    "name": "ipython",
    "version": 3
   },
   "file_extension": ".py",
   "mimetype": "text/x-python",
   "name": "python",
   "nbconvert_exporter": "python",
   "pygments_lexer": "ipython3",
   "version": "3.7.3"
  }
 },
 "nbformat": 4,
 "nbformat_minor": 4
}
