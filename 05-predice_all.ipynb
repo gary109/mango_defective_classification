{
 "cells": [
  {
   "cell_type": "code",
   "execution_count": null,
   "metadata": {},
   "outputs": [],
   "source": [
    "import os"
   ]
  },
  {
   "cell_type": "code",
   "execution_count": null,
   "metadata": {},
   "outputs": [],
   "source": [
    "CMD='./predict_pitch_all.py' \n",
    "MODEL='pix2pix'\n",
    "CLASS='singing_transcription'\n",
    "DIRECTION='AtoB' # from domain A to domain B\n",
    "LOAD_SIZE=256 # scale images to this size\n",
    "CROP_SIZE=256 # then crop to this size\n",
    "INPUT_NC=3  # number of channels in the input image\n",
    "NO_FLIP='--no_flip'\n",
    "# DATAROOT='./datasets/original/AIcup_testset_ok/1'\n",
    "DATAROOT='./datasets/original/AIcup_testset_ok'\n",
    "\n",
    "CHECKPOINTS_DIR='./pretrained_models/%s/'%(CLASS)\n",
    "PHASE='--phase predict'\n",
    "CPU='--gpu_ids -1'\n",
    "GPU_ID=0   # gpu id\n",
    "NUM_TEST=500 # number of input images duirng test\n",
    "# number of samples per input images\n",
    "NUM_SAMPLES='--n_samples 1' \n",
    "# USE_DROPOUT='--use_dropout'\n",
    "NAME='%s_%s'%(CLASS,MODEL)\n",
    "# RESULTS_DIR='./results/%s/'%(NAME)\n",
    "RESULTS_DIR='./results/'\n",
    "NET_G='--netG unet_256'\n",
    "DATASET_MODE='--dataset_mode single'#'aligned'"
   ]
  },
  {
   "cell_type": "code",
   "execution_count": null,
   "metadata": {},
   "outputs": [],
   "source": [
    "os.environ['CMD']=str(CMD)\n",
    "os.environ['MODEL']=str(MODEL)\n",
    "os.environ['CLASS']=str(CLASS)\n",
    "os.environ['DIRECTION']=str(DIRECTION)\n",
    "os.environ['LOAD_SIZE']=str(LOAD_SIZE)\n",
    "os.environ['CROP_SIZE']=str(CROP_SIZE)\n",
    "os.environ['INPUT_NC']=str(INPUT_NC)\n",
    "os.environ['NO_FLIP']=str(NO_FLIP)\n",
    "os.environ['DATAROOT']=str(DATAROOT)\n",
    "os.environ['CHECKPOINTS_DIR']=str(CHECKPOINTS_DIR)\n",
    "os.environ['PHASE']=str(PHASE)\n",
    "os.environ['CPU']=str(CPU)\n",
    "os.environ['GPU_ID']=str(GPU_ID)\n",
    "os.environ['NUM_TEST']=str(NUM_TEST)\n",
    "os.environ['NUM_SAMPLES']=str(NUM_SAMPLES)\n",
    "os.environ['NAME']=str(NAME)\n",
    "os.environ['RESULTS_DIR']=str(RESULTS_DIR)\n",
    "os.environ['NET_G']=str(NET_G)\n",
    "# os.environ['USE_DROPOUT']=str(USE_DROPOUT)\n",
    "os.environ['DATASET_MODE']=str(DATASET_MODE)"
   ]
  },
  {
   "cell_type": "code",
   "execution_count": null,
   "metadata": {},
   "outputs": [],
   "source": [
    "! cp -rf ../../BicycleGAN/checkpoints/singing_transcription/singing_transcription_pix2pix/latest_net_* ./pretrained_models/singing_transcription/singing_transcription_pix2pix/"
   ]
  },
  {
   "cell_type": "code",
   "execution_count": null,
   "metadata": {},
   "outputs": [],
   "source": [
    "#   --dataset_mode single \\\n",
    "#   --suffix 1_ \\\n",
    "#   $USE_DROPOUT \\\n",
    "\n",
    "! CUDA_VISIBLE_DEVICES=$GPU_ID python $CMD \\\n",
    "  --dataroot $DATAROOT \\\n",
    "  --results_dir $RESULTS_DIR \\\n",
    "  --checkpoints_dir $CHECKPOINTS_DIR \\\n",
    "  --name $NAME \\\n",
    "  --model $MODEL \\\n",
    "  --serial_batches \\\n",
    "  $PHASE \\\n",
    "  $DATASET_MODE  \\\n",
    "  --direction $DIRECTION \\\n",
    "  --load_size $LOAD_SIZE \\\n",
    "  --crop_size $CROP_SIZE \\\n",
    "  --input_nc $INPUT_NC \\\n",
    "  --num_test $NUM_TEST \\\n",
    "  $NUM_SAMPLES \\\n",
    "  --center_crop \\\n",
    "  --no_encode \\\n",
    "  $NO_FLIP \\\n",
    "  $NET_G \\\n",
    "  $CPU\n",
    "print ('Done')"
   ]
  },
  {
   "cell_type": "code",
   "execution_count": null,
   "metadata": {},
   "outputs": [],
   "source": []
  },
  {
   "cell_type": "code",
   "execution_count": null,
   "metadata": {},
   "outputs": [],
   "source": []
  },
  {
   "cell_type": "code",
   "execution_count": null,
   "metadata": {},
   "outputs": [],
   "source": []
  },
  {
   "cell_type": "code",
   "execution_count": null,
   "metadata": {},
   "outputs": [],
   "source": []
  },
  {
   "cell_type": "code",
   "execution_count": null,
   "metadata": {},
   "outputs": [],
   "source": []
  },
  {
   "cell_type": "code",
   "execution_count": null,
   "metadata": {},
   "outputs": [],
   "source": []
  }
 ],
 "metadata": {
  "kernelspec": {
   "display_name": "Python 3",
   "language": "python",
   "name": "python3"
  },
  "language_info": {
   "codemirror_mode": {
    "name": "ipython",
    "version": 3
   },
   "file_extension": ".py",
   "mimetype": "text/x-python",
   "name": "python",
   "nbconvert_exporter": "python",
   "pygments_lexer": "ipython3",
   "version": "3.7.3"
  }
 },
 "nbformat": 4,
 "nbformat_minor": 2
}
