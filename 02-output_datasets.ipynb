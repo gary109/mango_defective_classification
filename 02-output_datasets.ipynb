{
 "cells": [
  {
   "cell_type": "code",
   "execution_count": 1,
   "metadata": {},
   "outputs": [],
   "source": [
    "from utils import Utils\n",
    "%matplotlib inline"
   ]
  },
  {
   "cell_type": "code",
   "execution_count": 2,
   "metadata": {},
   "outputs": [],
   "source": [
    "utils = Utils()\n",
    "utils.init_datasets(output_root = './datasets/outputs')"
   ]
  },
  {
   "cell_type": "markdown",
   "metadata": {},
   "source": [
    "# Output AB Features Datasets"
   ]
  },
  {
   "cell_type": "code",
   "execution_count": 3,
   "metadata": {},
   "outputs": [
    {
     "name": "stdout",
     "output_type": "stream",
     "text": [
      "isTrain=1\n",
      "The ./datasets/outputs/features directory is deleted successfully\n",
      "[0] Combine A(38414) + B(38414) ... ./datasets/outputs/features/38414_38414.png Done\n",
      "[0] Combine hA(38414) + hB(38414) ... ./datasets/outputs/features/h38414_h38414.png Done\n",
      "[1] Combine A(03182) + B(03182) ... ./datasets/outputs/features/03182_03182.png Done\n",
      "[1] Combine hA(03182) + hB(03182) ... ./datasets/outputs/features/h03182_h03182.png Done\n",
      "[2] Combine A(29863) + B(29863) ... ./datasets/outputs/features/29863_29863.png Done\n",
      "[2] Combine hA(29863) + hB(29863) ... ./datasets/outputs/features/h29863_h29863.png Done\n",
      "[3] Combine A(17937) + B(17937) ... ./datasets/outputs/features/17937_17937.png Done\n",
      "[3] Combine hA(17937) + hB(17937) ... ./datasets/outputs/features/h17937_h17937.png Done\n",
      "[4] Combine A(40878) + B(40878) ... ./datasets/outputs/features/40878_40878.png Done\n",
      "[4] Combine hA(40878) + hB(40878) ... ./datasets/outputs/features/h40878_h40878.png Done\n",
      "[5] Combine A(29064) + B(29064) ... ./datasets/outputs/features/29064_29064.png Done\n",
      "[5] Combine hA(29064) + hB(29064) ... ./datasets/outputs/features/h29064_h29064.png Done\n",
      "[6] Combine A(33963) + B(33963) ... ./datasets/outputs/features/33963_33963.png Done\n",
      "[6] Combine hA(33963) + hB(33963) ... ./datasets/outputs/features/h33963_h33963.png Done\n",
      "[7] Combine A(44680) + B(44680) ... ./datasets/outputs/features/44680_44680.png Done\n",
      "[7] Combine hA(44680) + hB(44680) ... ./datasets/outputs/features/h44680_h44680.png Done\n",
      "[8] Combine A(35482) + B(35482) ... ./datasets/outputs/features/35482_35482.png Done\n",
      "[8] Combine hA(35482) + hB(35482) ... ./datasets/outputs/features/h35482_h35482.png Done\n",
      "[9] Combine A(04406) + B(04406) ... ./datasets/outputs/features/04406_04406.png Done\n",
      "[9] Combine hA(04406) + hB(04406) ... ./datasets/outputs/features/h04406_h04406.png Done\n",
      "[10] Combine A(49127) + B(49127) ... ./datasets/outputs/features/49127_49127.png Done\n",
      "[10] Combine hA(49127) + hB(49127) ... ./datasets/outputs/features/h49127_h49127.png Done\n",
      "[11] Combine A(20437) + B(20437) ... ./datasets/outputs/features/20437_20437.png Done\n",
      "[11] Combine hA(20437) + hB(20437) ... ./datasets/outputs/features/h20437_h20437.png Done\n",
      "[12] Combine A(20160) + B(20160) ... ./datasets/outputs/features/20160_20160.png Done\n",
      "[12] Combine hA(20160) + hB(20160) ... ./datasets/outputs/features/h20160_h20160.png Done\n",
      "[13] Combine A(01149) + B(01149) ... ./datasets/outputs/features/01149_01149.png Done\n",
      "[13] Combine hA(01149) + hB(01149) ... ./datasets/outputs/features/h01149_h01149.png Done\n",
      "[14] Combine A(17256) + B(17256) ... ./datasets/outputs/features/17256_17256.png Done\n",
      "[14] Combine hA(17256) + hB(17256) ... ./datasets/outputs/features/h17256_h17256.png Done\n",
      "[15] Combine A(45792) + B(45792) ... ./datasets/outputs/features/45792_45792.png Done\n"
     ]
    },
    {
     "ename": "KeyboardInterrupt",
     "evalue": "",
     "output_type": "error",
     "traceback": [
      "\u001b[0;31m\u001b[0m",
      "\u001b[0;31mKeyboardInterrupt\u001b[0mTraceback (most recent call last)",
      "\u001b[0;32m<ipython-input-3-c9a22eb0138e>\u001b[0m in \u001b[0;36m<module>\u001b[0;34m\u001b[0m\n\u001b[1;32m      1\u001b[0m \u001b[0mutils\u001b[0m\u001b[0;34m.\u001b[0m\u001b[0minit_vars\u001b[0m\u001b[0;34m(\u001b[0m\u001b[0misTrain\u001b[0m\u001b[0;34m=\u001b[0m\u001b[0;32mTrue\u001b[0m\u001b[0;34m,\u001b[0m\u001b[0mhFlip\u001b[0m\u001b[0;34m=\u001b[0m\u001b[0;32mTrue\u001b[0m\u001b[0;34m)\u001b[0m\u001b[0;34m\u001b[0m\u001b[0;34m\u001b[0m\u001b[0m\n\u001b[0;32m----> 2\u001b[0;31m \u001b[0mutils\u001b[0m\u001b[0;34m.\u001b[0m\u001b[0moutput_AB_features_datasets\u001b[0m\u001b[0;34m(\u001b[0m\u001b[0mcsvFile\u001b[0m\u001b[0;34m=\u001b[0m\u001b[0;34m'trainAB.csv'\u001b[0m\u001b[0;34m)\u001b[0m\u001b[0;34m\u001b[0m\u001b[0;34m\u001b[0m\u001b[0m\n\u001b[0m",
      "\u001b[0;32m/workspace/AIcup/mango_defective_classification/utils.py\u001b[0m in \u001b[0;36moutput_AB_features_datasets\u001b[0;34m(self, csvFile)\u001b[0m\n\u001b[1;32m     89\u001b[0m         \u001b[0;31m###################################################################################################\u001b[0m\u001b[0;34m\u001b[0m\u001b[0;34m\u001b[0m\u001b[0;34m\u001b[0m\u001b[0m\n\u001b[1;32m     90\u001b[0m         \u001b[0;32mfor\u001b[0m \u001b[0mindex\u001b[0m\u001b[0;34m,\u001b[0m \u001b[0;34m(\u001b[0m\u001b[0mA_path\u001b[0m\u001b[0;34m,\u001b[0m \u001b[0mB_path\u001b[0m\u001b[0;34m)\u001b[0m \u001b[0;32min\u001b[0m \u001b[0menumerate\u001b[0m\u001b[0;34m(\u001b[0m\u001b[0mzip\u001b[0m\u001b[0;34m(\u001b[0m\u001b[0mtrain\u001b[0m\u001b[0;34m[\u001b[0m\u001b[0;34m'A'\u001b[0m\u001b[0;34m]\u001b[0m\u001b[0;34m,\u001b[0m \u001b[0mtrain\u001b[0m\u001b[0;34m[\u001b[0m\u001b[0;34m'B'\u001b[0m\u001b[0;34m]\u001b[0m\u001b[0;34m)\u001b[0m\u001b[0;34m)\u001b[0m\u001b[0;34m:\u001b[0m\u001b[0;34m\u001b[0m\u001b[0;34m\u001b[0m\u001b[0m\n\u001b[0;32m---> 91\u001b[0;31m             \u001b[0mself\u001b[0m\u001b[0;34m.\u001b[0m\u001b[0mrun_output_AB_features_datasets\u001b[0m\u001b[0;34m(\u001b[0m\u001b[0mindex\u001b[0m\u001b[0;34m,\u001b[0m\u001b[0mA_path\u001b[0m\u001b[0;34m,\u001b[0m \u001b[0mB_path\u001b[0m\u001b[0;34m)\u001b[0m\u001b[0;34m\u001b[0m\u001b[0;34m\u001b[0m\u001b[0m\n\u001b[0m\u001b[1;32m     92\u001b[0m         \u001b[0mprint\u001b[0m\u001b[0;34m(\u001b[0m\u001b[0;34m\"=== Done ===\"\u001b[0m\u001b[0;34m)\u001b[0m\u001b[0;34m\u001b[0m\u001b[0;34m\u001b[0m\u001b[0m\n\u001b[1;32m     93\u001b[0m \u001b[0;34m\u001b[0m\u001b[0m\n",
      "\u001b[0;32m/workspace/AIcup/mango_defective_classification/utils.py\u001b[0m in \u001b[0;36mrun_output_AB_features_datasets\u001b[0;34m(self, index, A_path, B_path)\u001b[0m\n\u001b[1;32m     72\u001b[0m             \u001b[0mdata\u001b[0m \u001b[0;34m=\u001b[0m \u001b[0mnp\u001b[0m\u001b[0;34m.\u001b[0m\u001b[0mhstack\u001b[0m\u001b[0;34m(\u001b[0m\u001b[0;34m(\u001b[0m\u001b[0mh_flip_A\u001b[0m\u001b[0;34m,\u001b[0m\u001b[0mh_flip_B\u001b[0m\u001b[0;34m)\u001b[0m\u001b[0;34m)\u001b[0m \u001b[0;31m# Domain A & B\u001b[0m\u001b[0;34m\u001b[0m\u001b[0;34m\u001b[0m\u001b[0m\n\u001b[1;32m     73\u001b[0m             \u001b[0mrs_data\u001b[0m \u001b[0;34m=\u001b[0m \u001b[0mcv2\u001b[0m\u001b[0;34m.\u001b[0m\u001b[0mresize\u001b[0m\u001b[0;34m(\u001b[0m\u001b[0mdata\u001b[0m\u001b[0;34m,\u001b[0m \u001b[0;34m(\u001b[0m\u001b[0;36m256\u001b[0m\u001b[0;34m*\u001b[0m\u001b[0;36m2\u001b[0m\u001b[0;34m,\u001b[0m \u001b[0;36m256\u001b[0m\u001b[0;34m)\u001b[0m\u001b[0;34m,\u001b[0m \u001b[0minterpolation\u001b[0m\u001b[0;34m=\u001b[0m\u001b[0mcv2\u001b[0m\u001b[0;34m.\u001b[0m\u001b[0mINTER_CUBIC\u001b[0m\u001b[0;34m)\u001b[0m\u001b[0;34m\u001b[0m\u001b[0;34m\u001b[0m\u001b[0m\n\u001b[0;32m---> 74\u001b[0;31m             \u001b[0mcv2\u001b[0m\u001b[0;34m.\u001b[0m\u001b[0mimwrite\u001b[0m\u001b[0;34m(\u001b[0m\u001b[0msave_path\u001b[0m\u001b[0;34m,\u001b[0m \u001b[0mdata\u001b[0m\u001b[0;34m)\u001b[0m\u001b[0;34m\u001b[0m\u001b[0;34m\u001b[0m\u001b[0m\n\u001b[0m\u001b[1;32m     75\u001b[0m             \u001b[0mprint\u001b[0m\u001b[0;34m(\u001b[0m\u001b[0;34m'[%d] Combine hA(%s) + hB(%s) ... %s Done'\u001b[0m\u001b[0;34m%\u001b[0m\u001b[0;34m(\u001b[0m\u001b[0mindex\u001b[0m\u001b[0;34m,\u001b[0m \u001b[0mA_basename\u001b[0m\u001b[0;34m,\u001b[0m \u001b[0mB_basename\u001b[0m\u001b[0;34m,\u001b[0m \u001b[0msave_path\u001b[0m\u001b[0;34m)\u001b[0m\u001b[0;34m)\u001b[0m\u001b[0;34m\u001b[0m\u001b[0;34m\u001b[0m\u001b[0m\n\u001b[1;32m     76\u001b[0m \u001b[0;34m\u001b[0m\u001b[0m\n",
      "\u001b[0;31mKeyboardInterrupt\u001b[0m: "
     ]
    }
   ],
   "source": [
    "utils.init_vars(isTrain=True,hFlip=True)\n",
    "utils.output_AB_features_datasets(csvFile='trainAB.csv')  "
   ]
  },
  {
   "cell_type": "markdown",
   "metadata": {},
   "source": [
    "# Output Train Features Datasets"
   ]
  },
  {
   "cell_type": "code",
   "execution_count": null,
   "metadata": {},
   "outputs": [],
   "source": [
    "utils.init_vars(isTrain=True)\n",
    "utils.output_train_datasets(test_size=0.05)"
   ]
  },
  {
   "cell_type": "markdown",
   "metadata": {},
   "source": [
    "# Output Test Features Datasets"
   ]
  },
  {
   "cell_type": "code",
   "execution_count": null,
   "metadata": {},
   "outputs": [],
   "source": [
    "# utils.init_vars(isTrain=False)\n",
    "# utils.output_test_datasets(csvFile='test.csv',who=495)"
   ]
  },
  {
   "cell_type": "code",
   "execution_count": null,
   "metadata": {},
   "outputs": [],
   "source": []
  },
  {
   "cell_type": "code",
   "execution_count": null,
   "metadata": {},
   "outputs": [],
   "source": []
  }
 ],
 "metadata": {
  "kernelspec": {
   "display_name": "Python 3",
   "language": "python",
   "name": "python3"
  },
  "language_info": {
   "codemirror_mode": {
    "name": "ipython",
    "version": 3
   },
   "file_extension": ".py",
   "mimetype": "text/x-python",
   "name": "python",
   "nbconvert_exporter": "python",
   "pygments_lexer": "ipython3",
   "version": "3.7.3"
  }
 },
 "nbformat": 4,
 "nbformat_minor": 4
}
